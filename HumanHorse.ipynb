{
  "nbformat": 4,
  "nbformat_minor": 0,
  "metadata": {
    "colab": {
      "name": "HumanHorse.ipynb",
      "provenance": [],
      "authorship_tag": "ABX9TyMAUwud287vUkYWf0tuN8F9",
      "include_colab_link": true
    },
    "kernelspec": {
      "name": "python3",
      "display_name": "Python 3"
    },
    "language_info": {
      "name": "python"
    },
    "accelerator": "GPU"
  },
  "cells": [
    {
      "cell_type": "markdown",
      "metadata": {
        "id": "view-in-github",
        "colab_type": "text"
      },
      "source": [
        "<a href=\"https://colab.research.google.com/github/himanshunaidu/human_or_horse/blob/master/HumanHorse.ipynb\" target=\"_parent\"><img src=\"https://colab.research.google.com/assets/colab-badge.svg\" alt=\"Open In Colab\"/></a>"
      ]
    },
    {
      "cell_type": "code",
      "metadata": {
        "id": "7pZ4nwJmWjYE"
      },
      "source": [
        "import os\n",
        "import math\n",
        "import zipfile\n",
        "import numpy as np\n",
        "import tensorflow as tf\n",
        "from tensorflow.keras.preprocessing import image\n",
        "from tensorflow.keras.layers import Input, Conv2D, BatchNormalization, MaxPool2D, Flatten, Dense, LeakyReLU\n",
        "from tensorflow.keras.models import Model\n",
        "import matplotlib.pyplot as plt\n",
        "from PIL import Image, ImageOps"
      ],
      "execution_count": 13,
      "outputs": []
    },
    {
      "cell_type": "markdown",
      "metadata": {
        "id": "CYlnLgV5aTVw"
      },
      "source": [
        "#Loading Dataset"
      ]
    },
    {
      "cell_type": "code",
      "metadata": {
        "colab": {
          "base_uri": "https://localhost:8080/"
        },
        "id": "2a7S-vG_Xvfr",
        "outputId": "c3c8bc8e-5bb1-4d7d-8671-bceb97b5f586"
      },
      "source": [
        "#TRAINING SET\n",
        "!wget --no-check-certificate \\\n",
        "https://storage.googleapis.com/laurencemoroney-blog.appspot.com/horse-or-human.zip \\\n",
        "-O /tmp/horse-or-human.zip"
      ],
      "execution_count": 2,
      "outputs": [
        {
          "output_type": "stream",
          "text": [
            "--2021-08-25 13:29:32--  https://storage.googleapis.com/laurencemoroney-blog.appspot.com/horse-or-human.zip\n",
            "Resolving storage.googleapis.com (storage.googleapis.com)... 142.250.141.128, 142.251.2.128, 2607:f8b0:4023:c06::80, ...\n",
            "Connecting to storage.googleapis.com (storage.googleapis.com)|142.250.141.128|:443... connected.\n",
            "HTTP request sent, awaiting response... 200 OK\n",
            "Length: 149574867 (143M) [application/zip]\n",
            "Saving to: ‘/tmp/horse-or-human.zip’\n",
            "\n",
            "/tmp/horse-or-human 100%[===================>] 142.65M   215MB/s    in 0.7s    \n",
            "\n",
            "2021-08-25 13:29:33 (215 MB/s) - ‘/tmp/horse-or-human.zip’ saved [149574867/149574867]\n",
            "\n"
          ],
          "name": "stdout"
        }
      ]
    },
    {
      "cell_type": "code",
      "metadata": {
        "id": "n2NbJnQaYQEM"
      },
      "source": [
        "dataset_zip_path = '/tmp/horse-or-human.zip'\n",
        "dataset_ref = zipfile.ZipFile(dataset_zip_path)\n",
        "dataset_ref.extractall('/tmp/horse-or-human')\n",
        "dataset_ref.close()"
      ],
      "execution_count": 3,
      "outputs": []
    },
    {
      "cell_type": "code",
      "metadata": {
        "id": "BIKK_Ab3ZP7R"
      },
      "source": [
        "train_human_dir = '/tmp/horse-or-human/humans'\n",
        "train_horse_dir = '/tmp/horse-or-human/horses'"
      ],
      "execution_count": 4,
      "outputs": []
    },
    {
      "cell_type": "code",
      "metadata": {
        "colab": {
          "base_uri": "https://localhost:8080/"
        },
        "id": "dQfNTxshZnb3",
        "outputId": "b929ef9a-c09b-4fd4-d87c-a70854d977f8"
      },
      "source": [
        "train_human_names = os.listdir(train_human_dir)\n",
        "print(len(train_human_names))\n",
        "train_horse_names = os.listdir(train_horse_dir)\n",
        "print(len(train_horse_names))"
      ],
      "execution_count": 5,
      "outputs": [
        {
          "output_type": "stream",
          "text": [
            "527\n",
            "500\n"
          ],
          "name": "stdout"
        }
      ]
    },
    {
      "cell_type": "code",
      "metadata": {
        "colab": {
          "base_uri": "https://localhost:8080/"
        },
        "id": "lNYoeLcehBC1",
        "outputId": "29e9b53b-4858-452e-a77f-a0f00066465a"
      },
      "source": [
        "#Experiment to find the dimensions\n",
        "min_height, min_width = math.inf, math.inf\n",
        "max_height, max_width = -1, -1\n",
        "avg_height, avg_width = 0, 0\n",
        "\n",
        "for i, path in enumerate(validation_human_names):\n",
        "  image_path = os.path.join(validation_human_dir, path)\n",
        "  img = Image.open(image_path)\n",
        "  width, height = img.size\n",
        "\n",
        "  min_height, min_width = min(min_height, height), min(min_width, width)\n",
        "  max_height, max_width = max(min_height, height), max(min_width, width)\n",
        "  avg_height, avg_width = avg_height+height, avg_width+width\n",
        "\n",
        "avg_height, avg_width = avg_height//len(validation_human_names), avg_width//len(validation_human_names)\n",
        "print(min_height, min_width)\n",
        "print(max_height, max_width)\n",
        "print(avg_height, avg_width)"
      ],
      "execution_count": 22,
      "outputs": [
        {
          "output_type": "stream",
          "text": [
            "300 300\n",
            "300 300\n",
            "300 300\n"
          ],
          "name": "stdout"
        }
      ]
    },
    {
      "cell_type": "code",
      "metadata": {
        "colab": {
          "base_uri": "https://localhost:8080/"
        },
        "id": "-LK9iGiVZneR",
        "outputId": "c021b49e-9657-46a4-9a1e-09133acb03d8"
      },
      "source": [
        "#VALIDATION SET\n",
        "!wget --no-check-certificate \\\n",
        "https://storage.googleapis.com/laurencemoroney-blog.appspot.com/validation-horse-or-human.zip \\\n",
        "-O /tmp/validation-horse-or-human.zip"
      ],
      "execution_count": 6,
      "outputs": [
        {
          "output_type": "stream",
          "text": [
            "--2021-08-25 13:29:40--  https://storage.googleapis.com/laurencemoroney-blog.appspot.com/validation-horse-or-human.zip\n",
            "Resolving storage.googleapis.com (storage.googleapis.com)... 74.125.137.128, 142.250.141.128, 142.251.2.128, ...\n",
            "Connecting to storage.googleapis.com (storage.googleapis.com)|74.125.137.128|:443... connected.\n",
            "HTTP request sent, awaiting response... 200 OK\n",
            "Length: 11480187 (11M) [application/zip]\n",
            "Saving to: ‘/tmp/validation-horse-or-human.zip’\n",
            "\n",
            "/tmp/validation-hor 100%[===================>]  10.95M  56.7MB/s    in 0.2s    \n",
            "\n",
            "2021-08-25 13:29:41 (56.7 MB/s) - ‘/tmp/validation-horse-or-human.zip’ saved [11480187/11480187]\n",
            "\n"
          ],
          "name": "stdout"
        }
      ]
    },
    {
      "cell_type": "code",
      "metadata": {
        "id": "H0hI3mHBfMLU"
      },
      "source": [
        "dataset_validation_zip_path = '/tmp/validation-horse-or-human.zip'\n",
        "dataset_validation_ref = zipfile.ZipFile(dataset_zip_path)\n",
        "dataset_validation_ref.extractall('/tmp/validation-horse-or-human')\n",
        "dataset_validation_ref.close()"
      ],
      "execution_count": 7,
      "outputs": []
    },
    {
      "cell_type": "code",
      "metadata": {
        "id": "j8HDAWL1fMQw"
      },
      "source": [
        "validation_human_dir = '/tmp/validation-horse-or-human/humans'\n",
        "validation_horse_dir = '/tmp/validation-horse-or-human/horses'"
      ],
      "execution_count": 8,
      "outputs": []
    },
    {
      "cell_type": "code",
      "metadata": {
        "colab": {
          "base_uri": "https://localhost:8080/"
        },
        "id": "W8FsW7FxfMSx",
        "outputId": "95be874a-6d60-486f-936d-9834885498c1"
      },
      "source": [
        "validation_human_names = os.listdir(validation_human_dir)\n",
        "print(len(validation_human_names))\n",
        "validation_horse_names = os.listdir(validation_horse_dir)\n",
        "print(len(validation_horse_names))"
      ],
      "execution_count": 9,
      "outputs": [
        {
          "output_type": "stream",
          "text": [
            "527\n",
            "500\n"
          ],
          "name": "stdout"
        }
      ]
    },
    {
      "cell_type": "markdown",
      "metadata": {
        "id": "GxcG-M0xaXK-"
      },
      "source": [
        "#Data Pre-processing"
      ]
    },
    {
      "cell_type": "code",
      "metadata": {
        "colab": {
          "base_uri": "https://localhost:8080/"
        },
        "id": "jSBgY9s7ZngH",
        "outputId": "54671538-15d6-4b76-827a-780d7c56ceed"
      },
      "source": [
        "train_datagen = image.ImageDataGenerator(rescale=1/255.0)\n",
        "train_generator = train_datagen.flow_from_directory('/tmp/horse-or-human', target_size=(300, 300), color_mode='rgb',\\\n",
        "                                                    class_mode='binary', batch_size=128)"
      ],
      "execution_count": 23,
      "outputs": [
        {
          "output_type": "stream",
          "text": [
            "Found 1027 images belonging to 2 classes.\n"
          ],
          "name": "stdout"
        }
      ]
    },
    {
      "cell_type": "code",
      "metadata": {
        "colab": {
          "base_uri": "https://localhost:8080/"
        },
        "id": "NO6P1SXujpvF",
        "outputId": "b29667cc-43f3-435c-d268-a97e6056b58a"
      },
      "source": [
        "validation_datagen = image.ImageDataGenerator(rescale=1/255.0)\n",
        "validation_datagen = train_datagen.flow_from_directory('/tmp/validation-horse-or-human', target_size=(300, 300), \\\n",
        "                                                       color_mode='rgb', class_mode='binary', batch_size=128)"
      ],
      "execution_count": 24,
      "outputs": [
        {
          "output_type": "stream",
          "text": [
            "Found 1027 images belonging to 2 classes.\n"
          ],
          "name": "stdout"
        }
      ]
    },
    {
      "cell_type": "code",
      "metadata": {
        "id": "zNLMtlF6jpxD"
      },
      "source": [
        ""
      ],
      "execution_count": null,
      "outputs": []
    },
    {
      "cell_type": "markdown",
      "metadata": {
        "id": "QLogLzdCkIcR"
      },
      "source": [
        "#Create Model"
      ]
    },
    {
      "cell_type": "code",
      "metadata": {
        "id": "uqEoTzIRkJre"
      },
      "source": [
        ""
      ],
      "execution_count": null,
      "outputs": []
    },
    {
      "cell_type": "code",
      "metadata": {
        "id": "jF7ZzIbJkJtt"
      },
      "source": [
        ""
      ],
      "execution_count": null,
      "outputs": []
    },
    {
      "cell_type": "code",
      "metadata": {
        "id": "71ZC-aKnkJv6"
      },
      "source": [
        ""
      ],
      "execution_count": null,
      "outputs": []
    }
  ]
}