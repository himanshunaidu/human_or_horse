{
  "nbformat": 4,
  "nbformat_minor": 0,
  "metadata": {
    "colab": {
      "name": "HumanHorse.ipynb",
      "provenance": [],
      "collapsed_sections": [],
      "authorship_tag": "ABX9TyPXyzoQ/MQDYodoiTtKGGck",
      "include_colab_link": true
    },
    "kernelspec": {
      "name": "python3",
      "display_name": "Python 3"
    },
    "language_info": {
      "name": "python"
    },
    "accelerator": "GPU"
  },
  "cells": [
    {
      "cell_type": "markdown",
      "metadata": {
        "id": "view-in-github",
        "colab_type": "text"
      },
      "source": [
        "<a href=\"https://colab.research.google.com/github/himanshunaidu/human_or_horse/blob/master/HumanHorse.ipynb\" target=\"_parent\"><img src=\"https://colab.research.google.com/assets/colab-badge.svg\" alt=\"Open In Colab\"/></a>"
      ]
    },
    {
      "cell_type": "code",
      "metadata": {
        "id": "7pZ4nwJmWjYE"
      },
      "source": [
        "import os\n",
        "import math\n",
        "import zipfile\n",
        "import numpy as np\n",
        "import tensorflow as tf\n",
        "from tensorflow.keras.preprocessing import image\n",
        "from tensorflow.keras.layers import Input, Conv2D, BatchNormalization, MaxPool2D, Flatten, Dense, LeakyReLU, Dropout\n",
        "from tensorflow.keras.models import Model\n",
        "import matplotlib.pyplot as plt\n",
        "from PIL import Image, ImageOps"
      ],
      "execution_count": 1,
      "outputs": []
    },
    {
      "cell_type": "code",
      "metadata": {
        "colab": {
          "base_uri": "https://localhost:8080/"
        },
        "id": "IRdyQKc1Saa5",
        "outputId": "1402e83d-380f-4911-dccb-3b3818e4567f"
      },
      "source": [
        "from google.colab import drive\n",
        "drive.mount('/content/gdrive', force_remount=True)"
      ],
      "execution_count": 17,
      "outputs": [
        {
          "output_type": "stream",
          "text": [
            "Mounted at /content/gdrive\n"
          ],
          "name": "stdout"
        }
      ]
    },
    {
      "cell_type": "markdown",
      "metadata": {
        "id": "CYlnLgV5aTVw"
      },
      "source": [
        "#Loading Dataset"
      ]
    },
    {
      "cell_type": "code",
      "metadata": {
        "colab": {
          "base_uri": "https://localhost:8080/"
        },
        "id": "2a7S-vG_Xvfr",
        "outputId": "460f15fc-950b-4708-f15d-8f312c7d4b37"
      },
      "source": [
        "#TRAINING SET\n",
        "!wget --no-check-certificate \\\n",
        "https://storage.googleapis.com/laurencemoroney-blog.appspot.com/horse-or-human.zip \\\n",
        "-O /tmp/horse-or-human.zip"
      ],
      "execution_count": 2,
      "outputs": [
        {
          "output_type": "stream",
          "text": [
            "--2021-08-26 16:24:31--  https://storage.googleapis.com/laurencemoroney-blog.appspot.com/horse-or-human.zip\n",
            "Resolving storage.googleapis.com (storage.googleapis.com)... 142.250.101.128, 142.250.141.128, 142.251.2.128, ...\n",
            "Connecting to storage.googleapis.com (storage.googleapis.com)|142.250.101.128|:443... connected.\n",
            "HTTP request sent, awaiting response... 200 OK\n",
            "Length: 149574867 (143M) [application/zip]\n",
            "Saving to: ‘/tmp/horse-or-human.zip’\n",
            "\n",
            "/tmp/horse-or-human 100%[===================>] 142.65M   294MB/s    in 0.5s    \n",
            "\n",
            "2021-08-26 16:24:32 (294 MB/s) - ‘/tmp/horse-or-human.zip’ saved [149574867/149574867]\n",
            "\n"
          ],
          "name": "stdout"
        }
      ]
    },
    {
      "cell_type": "code",
      "metadata": {
        "id": "n2NbJnQaYQEM"
      },
      "source": [
        "dataset_zip_path = '/tmp/horse-or-human.zip'\n",
        "dataset_ref = zipfile.ZipFile(dataset_zip_path)\n",
        "dataset_ref.extractall('/tmp/horse-or-human')\n",
        "dataset_ref.close()"
      ],
      "execution_count": 3,
      "outputs": []
    },
    {
      "cell_type": "code",
      "metadata": {
        "id": "BIKK_Ab3ZP7R"
      },
      "source": [
        "train_human_dir = '/tmp/horse-or-human/humans'\n",
        "train_horse_dir = '/tmp/horse-or-human/horses'"
      ],
      "execution_count": 4,
      "outputs": []
    },
    {
      "cell_type": "code",
      "metadata": {
        "colab": {
          "base_uri": "https://localhost:8080/"
        },
        "id": "dQfNTxshZnb3",
        "outputId": "d99ea99e-fc28-4e55-ff41-47c2c89399c1"
      },
      "source": [
        "train_human_names = os.listdir(train_human_dir)\n",
        "print(len(train_human_names))\n",
        "train_horse_names = os.listdir(train_horse_dir)\n",
        "print(len(train_horse_names))"
      ],
      "execution_count": 5,
      "outputs": [
        {
          "output_type": "stream",
          "text": [
            "527\n",
            "500\n"
          ],
          "name": "stdout"
        }
      ]
    },
    {
      "cell_type": "code",
      "metadata": {
        "id": "lNYoeLcehBC1"
      },
      "source": [
        "#Experiment to find the dimensions\n",
        "min_height, min_width = math.inf, math.inf\n",
        "max_height, max_width = -1, -1\n",
        "avg_height, avg_width = 0, 0\n",
        "\n",
        "for i, path in enumerate(validation_human_names):\n",
        "  image_path = os.path.join(validation_human_dir, path)\n",
        "  img = Image.open(image_path)\n",
        "  width, height = img.size\n",
        "\n",
        "  min_height, min_width = min(min_height, height), min(min_width, width)\n",
        "  max_height, max_width = max(min_height, height), max(min_width, width)\n",
        "  avg_height, avg_width = avg_height+height, avg_width+width\n",
        "\n",
        "avg_height, avg_width = avg_height//len(validation_human_names), avg_width//len(validation_human_names)\n",
        "print(min_height, min_width)\n",
        "print(max_height, max_width)\n",
        "print(avg_height, avg_width)"
      ],
      "execution_count": null,
      "outputs": []
    },
    {
      "cell_type": "code",
      "metadata": {
        "colab": {
          "base_uri": "https://localhost:8080/"
        },
        "id": "-LK9iGiVZneR",
        "outputId": "9cb33195-5c46-4a5d-e834-84e4f480219e"
      },
      "source": [
        "#VALIDATION SET\n",
        "!wget --no-check-certificate \\\n",
        "https://storage.googleapis.com/laurencemoroney-blog.appspot.com/validation-horse-or-human.zip \\\n",
        "-O /tmp/validation-horse-or-human.zip"
      ],
      "execution_count": 7,
      "outputs": [
        {
          "output_type": "stream",
          "text": [
            "--2021-08-26 16:25:21--  https://storage.googleapis.com/laurencemoroney-blog.appspot.com/validation-horse-or-human.zip\n",
            "Resolving storage.googleapis.com (storage.googleapis.com)... 142.250.101.128, 142.250.141.128, 142.251.2.128, ...\n",
            "Connecting to storage.googleapis.com (storage.googleapis.com)|142.250.101.128|:443... connected.\n",
            "HTTP request sent, awaiting response... 200 OK\n",
            "Length: 11480187 (11M) [application/zip]\n",
            "Saving to: ‘/tmp/validation-horse-or-human.zip’\n",
            "\n",
            "/tmp/validation-hor 100%[===================>]  10.95M  58.1MB/s    in 0.2s    \n",
            "\n",
            "2021-08-26 16:25:21 (58.1 MB/s) - ‘/tmp/validation-horse-or-human.zip’ saved [11480187/11480187]\n",
            "\n"
          ],
          "name": "stdout"
        }
      ]
    },
    {
      "cell_type": "code",
      "metadata": {
        "id": "H0hI3mHBfMLU"
      },
      "source": [
        "dataset_validation_zip_path = '/tmp/validation-horse-or-human.zip'\n",
        "dataset_validation_ref = zipfile.ZipFile(dataset_zip_path)\n",
        "dataset_validation_ref.extractall('/tmp/validation-horse-or-human')\n",
        "dataset_validation_ref.close()"
      ],
      "execution_count": 8,
      "outputs": []
    },
    {
      "cell_type": "code",
      "metadata": {
        "id": "j8HDAWL1fMQw"
      },
      "source": [
        "validation_human_dir = '/tmp/validation-horse-or-human/humans'\n",
        "validation_horse_dir = '/tmp/validation-horse-or-human/horses'"
      ],
      "execution_count": 9,
      "outputs": []
    },
    {
      "cell_type": "code",
      "metadata": {
        "colab": {
          "base_uri": "https://localhost:8080/"
        },
        "id": "W8FsW7FxfMSx",
        "outputId": "a54ea535-f883-4830-aa69-8b3e4e52491e"
      },
      "source": [
        "validation_human_names = os.listdir(validation_human_dir)\n",
        "print(len(validation_human_names))\n",
        "validation_horse_names = os.listdir(validation_horse_dir)\n",
        "print(len(validation_horse_names))"
      ],
      "execution_count": 10,
      "outputs": [
        {
          "output_type": "stream",
          "text": [
            "527\n",
            "500\n"
          ],
          "name": "stdout"
        }
      ]
    },
    {
      "cell_type": "markdown",
      "metadata": {
        "id": "GxcG-M0xaXK-"
      },
      "source": [
        "#Data Pre-processing"
      ]
    },
    {
      "cell_type": "code",
      "metadata": {
        "colab": {
          "base_uri": "https://localhost:8080/"
        },
        "id": "jSBgY9s7ZngH",
        "outputId": "0556b69c-abde-4285-f9b5-fa75f31c6cd7"
      },
      "source": [
        "train_datagen = image.ImageDataGenerator(rescale=1/255.0)\n",
        "train_generator = train_datagen.flow_from_directory('/tmp/horse-or-human', target_size=(300, 300), color_mode='rgb',\\\n",
        "                                                    class_mode='binary', batch_size=128)"
      ],
      "execution_count": 11,
      "outputs": [
        {
          "output_type": "stream",
          "text": [
            "Found 1027 images belonging to 2 classes.\n"
          ],
          "name": "stdout"
        }
      ]
    },
    {
      "cell_type": "code",
      "metadata": {
        "colab": {
          "base_uri": "https://localhost:8080/"
        },
        "id": "NO6P1SXujpvF",
        "outputId": "a1ec00da-1ab3-4ae8-d68d-26d41e8c8c11"
      },
      "source": [
        "validation_datagen = image.ImageDataGenerator(rescale=1/255.0)\n",
        "validation_datagen = train_datagen.flow_from_directory('/tmp/validation-horse-or-human', target_size=(300, 300), \\\n",
        "                                                       color_mode='rgb', class_mode='binary', batch_size=128)"
      ],
      "execution_count": 12,
      "outputs": [
        {
          "output_type": "stream",
          "text": [
            "Found 1027 images belonging to 2 classes.\n"
          ],
          "name": "stdout"
        }
      ]
    },
    {
      "cell_type": "code",
      "metadata": {
        "id": "zNLMtlF6jpxD"
      },
      "source": [
        ""
      ],
      "execution_count": null,
      "outputs": []
    },
    {
      "cell_type": "markdown",
      "metadata": {
        "id": "QLogLzdCkIcR"
      },
      "source": [
        "#Create Model"
      ]
    },
    {
      "cell_type": "code",
      "metadata": {
        "id": "jF7ZzIbJkJtt"
      },
      "source": [
        "#params\n",
        "alpha = 0.15\n",
        "dropout_rate = 0.3"
      ],
      "execution_count": 13,
      "outputs": []
    },
    {
      "cell_type": "code",
      "metadata": {
        "id": "uqEoTzIRkJre"
      },
      "source": [
        "#Model\n",
        "i = Input(shape=(300, 300, 3))\n",
        "\n",
        "#Convolution 1\n",
        "x = Conv2D(32, (3, 3), strides=(1, 1), padding='valid', activation=LeakyReLU(alpha=alpha))(i)\n",
        "x = BatchNormalization()(x)\n",
        "x = MaxPool2D((2, 2), strides=(2, 2))(x)\n",
        "\n",
        "#Convolution 2\n",
        "x = Conv2D(32, (3, 3), strides=(1, 1), padding='valid', activation=LeakyReLU(alpha=alpha))(x)\n",
        "x = BatchNormalization()(x)\n",
        "x = MaxPool2D((2, 2), strides=(2, 2))(x)\n",
        "\n",
        "#Convolution 3\n",
        "x = Conv2D(64, (3, 3), strides=(1, 1), padding='valid', activation=LeakyReLU(alpha=alpha))(x)\n",
        "x = BatchNormalization()(x)\n",
        "x = MaxPool2D((2, 2), strides=(2, 2))(x)\n",
        "\n",
        "x = Flatten()(x)\n",
        "\n",
        "x = Dense(1225, activation=LeakyReLU(alpha=alpha))(x)\n",
        "x = Dropout(rate=dropout_rate)(x)\n",
        "x = Dense(100, activation=LeakyReLU(alpha=alpha))(x)\n",
        "x = Dropout(rate=dropout_rate)(x)\n",
        "x = Dense(1, activation='sigmoid')(x)\n",
        "\n",
        "model = Model(i, x)"
      ],
      "execution_count": 14,
      "outputs": []
    },
    {
      "cell_type": "code",
      "metadata": {
        "colab": {
          "base_uri": "https://localhost:8080/"
        },
        "id": "71ZC-aKnkJv6",
        "outputId": "68dd8fca-072f-4883-af3c-0e295727cff3"
      },
      "source": [
        "print(model.summary())"
      ],
      "execution_count": 15,
      "outputs": [
        {
          "output_type": "stream",
          "text": [
            "Model: \"model\"\n",
            "_________________________________________________________________\n",
            "Layer (type)                 Output Shape              Param #   \n",
            "=================================================================\n",
            "input_1 (InputLayer)         [(None, 300, 300, 3)]     0         \n",
            "_________________________________________________________________\n",
            "conv2d (Conv2D)              (None, 298, 298, 32)      896       \n",
            "_________________________________________________________________\n",
            "batch_normalization (BatchNo (None, 298, 298, 32)      128       \n",
            "_________________________________________________________________\n",
            "max_pooling2d (MaxPooling2D) (None, 149, 149, 32)      0         \n",
            "_________________________________________________________________\n",
            "conv2d_1 (Conv2D)            (None, 147, 147, 32)      9248      \n",
            "_________________________________________________________________\n",
            "batch_normalization_1 (Batch (None, 147, 147, 32)      128       \n",
            "_________________________________________________________________\n",
            "max_pooling2d_1 (MaxPooling2 (None, 73, 73, 32)        0         \n",
            "_________________________________________________________________\n",
            "conv2d_2 (Conv2D)            (None, 71, 71, 64)        18496     \n",
            "_________________________________________________________________\n",
            "batch_normalization_2 (Batch (None, 71, 71, 64)        256       \n",
            "_________________________________________________________________\n",
            "max_pooling2d_2 (MaxPooling2 (None, 35, 35, 64)        0         \n",
            "_________________________________________________________________\n",
            "flatten (Flatten)            (None, 78400)             0         \n",
            "_________________________________________________________________\n",
            "dense (Dense)                (None, 1225)              96041225  \n",
            "_________________________________________________________________\n",
            "dropout (Dropout)            (None, 1225)              0         \n",
            "_________________________________________________________________\n",
            "dense_1 (Dense)              (None, 100)               122600    \n",
            "_________________________________________________________________\n",
            "dropout_1 (Dropout)          (None, 100)               0         \n",
            "_________________________________________________________________\n",
            "dense_2 (Dense)              (None, 1)                 101       \n",
            "=================================================================\n",
            "Total params: 96,193,078\n",
            "Trainable params: 96,192,822\n",
            "Non-trainable params: 256\n",
            "_________________________________________________________________\n",
            "None\n"
          ],
          "name": "stdout"
        }
      ]
    },
    {
      "cell_type": "code",
      "metadata": {
        "id": "zTj2-ElImwJz"
      },
      "source": [
        "#Compile\n",
        "model.compile(optimizer='adam',loss='binary_crossentropy',metrics=['accuracy'])"
      ],
      "execution_count": 16,
      "outputs": []
    },
    {
      "cell_type": "code",
      "metadata": {
        "id": "oWrnoWAjSksH"
      },
      "source": [
        "save_path = \"gdrive/My Drive/Colab Notebooks/HH1\"\n",
        "cp_callback = tf.keras.callbacks.ModelCheckpoint(filepath=save_path, save_weights_only=True, verbose=1)"
      ],
      "execution_count": 22,
      "outputs": []
    },
    {
      "cell_type": "code",
      "metadata": {
        "id": "ARGlJ5femwPB"
      },
      "source": [
        "# history = model.fit_generator(train_generator, steps_per_epoch=8, epochs=15, )"
      ],
      "execution_count": null,
      "outputs": []
    }
  ]
}